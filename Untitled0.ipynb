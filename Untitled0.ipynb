{
  "nbformat": 4,
  "nbformat_minor": 0,
  "metadata": {
    "colab": {
      "provenance": [],
      "authorship_tag": "ABX9TyODn7oobLOOCRlqfeBGgzld",
      "include_colab_link": true
    },
    "kernelspec": {
      "name": "python3",
      "display_name": "Python 3"
    },
    "language_info": {
      "name": "python"
    }
  },
  "cells": [
    {
      "cell_type": "markdown",
      "metadata": {
        "id": "view-in-github",
        "colab_type": "text"
      },
      "source": [
        "<a href=\"https://colab.research.google.com/github/PaulEbenezer454/Website/blob/main/Untitled0.ipynb\" target=\"_parent\"><img src=\"https://colab.research.google.com/assets/colab-badge.svg\" alt=\"Open In Colab\"/></a>"
      ]
    },
    {
      "cell_type": "code",
      "execution_count": null,
      "metadata": {
        "id": "iCqfjBdKmXK6"
      },
      "outputs": [],
      "source": []
    },
    {
      "cell_type": "markdown",
      "source": [
        "1. Create a NumPy array of daily temperatures (°C) for 10 days: [30, 32, 29, 35, 28, 31,\n",
        "33, 36, 34, 30]. Print the array."
      ],
      "metadata": {
        "id": "Ri1iHr6fmbjs"
      }
    },
    {
      "cell_type": "markdown",
      "source": [],
      "metadata": {
        "id": "lhEMPzaomoTC"
      }
    },
    {
      "cell_type": "code",
      "source": [
        "import numpy as np\n",
        "daily_temperatures = np.array([30, 32, 29, 35, 28, 31, 33, 36, 34, 30])\n",
        "print(daily_temperatures)"
      ],
      "metadata": {
        "colab": {
          "base_uri": "https://localhost:8080/"
        },
        "id": "Tfh1ILVroCAK",
        "outputId": "dc947585-987f-4d0f-f464-f235651aa2e7"
      },
      "execution_count": null,
      "outputs": [
        {
          "output_type": "stream",
          "name": "stdout",
          "text": [
            "[30 32 29 35 28 31 33 36 34 30]\n"
          ]
        }
      ]
    },
    {
      "cell_type": "markdown",
      "source": [
        "2. Create arrays using NumPy:\n",
        "a) An array of 7 zeros to represent missing rainfall values (in mm) for a week.\n",
        "b) An array of 7 ones to represent days where rainfall was recorded.\n",
        "c) An uninitialized array of size 5 using empty() for placeholder humidity values."
      ],
      "metadata": {
        "id": "NHOddh6YonbK"
      }
    },
    {
      "cell_type": "code",
      "source": [
        "print('ulk23cs1001')\n",
        "import numpy as np\n",
        "\n",
        "missing_rainfall = np.zeros(7)\n",
        "print(\"Missing Rainfall (zeros):\", missing_rainfall)\n",
        "\n",
        "recorded_rainfall = np.ones(7)\n",
        "print(\"Recorded Rainfall (ones):\", recorded_rainfall)\n",
        "humidity_placeholders = np.empty(5)\n",
        "print(\"Humidity Placeholders (empty):\", humidity_placeholders)"
      ],
      "metadata": {
        "colab": {
          "base_uri": "https://localhost:8080/"
        },
        "id": "tB9YS2FopRJb",
        "outputId": "565ed7b2-e6a4-4686-fa31-95c3800991fe"
      },
      "execution_count": null,
      "outputs": [
        {
          "output_type": "stream",
          "name": "stdout",
          "text": [
            "ulk23cs1001\n",
            "Missing Rainfall (zeros): [0. 0. 0. 0. 0. 0. 0.]\n",
            "Recorded Rainfall (ones): [1. 1. 1. 1. 1. 1. 1.]\n",
            "Humidity Placeholders (empty): [0.   0.25 0.5  0.75 1.  ]\n"
          ]
        }
      ]
    },
    {
      "cell_type": "markdown",
      "source": [
        "3. Generate a random array of 15 integers between 40 and 100 to represent humidity\n",
        "percentages. Print its dimensions, shape, size, and data type."
      ],
      "metadata": {
        "id": "4fWUnW_EplnY"
      }
    },
    {
      "cell_type": "code",
      "source": [
        "print('ulk23cs1001')\n",
        "import numpy as np\n",
        "\n",
        "humidity_percentages = np.random.randint(low=40, high=101, size=15)\n",
        "\n",
        "print(\"Humidity Percentages Array:\")\n",
        "print(humidity_percentages)\n",
        "\n",
        "print(\"\\nArray Properties:\")\n",
        "print(\"Dimensions (ndim):\", humidity_percentages.ndim)\n",
        "print(\"Shape (shape):\", humidity_percentages.shape)\n",
        "print(\"Size (size):\", humidity_percentages.size)\n",
        "print(\"Data Type (dtype):\", humidity_percentages.dtype)"
      ],
      "metadata": {
        "colab": {
          "base_uri": "https://localhost:8080/"
        },
        "id": "IZ07rrZfpug-",
        "outputId": "d62f0b62-03a2-42da-b690-b846f109d980"
      },
      "execution_count": null,
      "outputs": [
        {
          "output_type": "stream",
          "name": "stdout",
          "text": [
            "ulk23cs1001\n",
            "Humidity Percentages Array:\n",
            "[79 60 67 95 48 46 67 90 97 92 51 45 67 86 47]\n",
            "\n",
            "Array Properties:\n",
            "Dimensions (ndim): 1\n",
            "Shape (shape): (15,)\n",
            "Size (size): 15\n",
            "Data Type (dtype): int64\n"
          ]
        }
      ]
    },
    {
      "cell_type": "markdown",
      "source": [
        "4. Create a NumPy array of temperature readings from 25 to 45 °C (step of 2).\n",
        "\n",
        "   a) Extract the first 3 values.\n",
        "\n",
        "   b) Extract the last 4 values.\n",
        "\n",
        "   c) Print every alternate temperature."
      ],
      "metadata": {
        "id": "FpNCA1kyqAC3"
      }
    },
    {
      "cell_type": "code",
      "source": [
        "print('ulk23cs1001')\n",
        "import numpy as np\n",
        "\n",
        "temperatures = np.arange(25, 46, 2)\n",
        "print(\"Original Temperature Array:\")\n",
        "print(temperatures)\n",
        "\n",
        "first_three = temperatures[:3]\n",
        "print(\"\\nFirst 3 values:\", first_three)\n",
        "last_four = temperatures[-4:]\n",
        "print(\"Last 4 values:\", last_four)\n",
        "alternate_temperatures = temperatures[::2]\n",
        "print(\"Every alternate temperature:\", alternate_temperatures)"
      ],
      "metadata": {
        "colab": {
          "base_uri": "https://localhost:8080/"
        },
        "id": "nzJcEDZGp3Yv",
        "outputId": "389a7b2f-ccda-4bf3-cd62-d8113a229773"
      },
      "execution_count": null,
      "outputs": [
        {
          "output_type": "stream",
          "name": "stdout",
          "text": [
            "ulk23cs1001\n",
            "Original Temperature Array:\n",
            "[25 27 29 31 33 35 37 39 41 43 45]\n",
            "\n",
            "First 3 values: [25 27 29]\n",
            "Last 4 values: [39 41 43 45]\n",
            "Every alternate temperature: [25 29 33 37 41 45]\n"
          ]
        }
      ]
    },
    {
      "cell_type": "markdown",
      "source": [
        "5. Create a NumPy array [10, 15, 20, 25, 30, 35, 40, 45] representing daily rainfall (mm).\n",
        "\n",
        "  o Print the 4th day's rainfall.\n",
        "\n",
        "  o Extract rainfall data for the first 3 days.\n",
        "\n",
        "  o Extract rainfall data for the last 2 days."
      ],
      "metadata": {
        "id": "h2FjoY-Yqn_b"
      }
    },
    {
      "cell_type": "code",
      "source": [
        "print('ulk23cs1001')\n",
        "import numpy as np\n",
        "\n",
        "daily_rainfall = np.array([10, 15, 20, 25, 30, 35, 40, 45])\n",
        "print(\"Daily Rainfall Array:\", daily_rainfall)\n",
        "\n",
        "fourth_day_rainfall = daily_rainfall[3]\n",
        "print(\"4th day's rainfall:\", fourth_day_rainfall)\n",
        "first_three_days_rainfall = daily_rainfall[:3]\n",
        "print(\"Rainfall for the first 3 days:\", first_three_days_rainfall)\n",
        "last_two_days_rainfall = daily_rainfall[-2:]\n",
        "print(\"Rainfall for the last 2 days:\", last_two_days_rainfall)\n"
      ],
      "metadata": {
        "colab": {
          "base_uri": "https://localhost:8080/"
        },
        "id": "42h1DKBFsRYX",
        "outputId": "46358ff7-bc33-4398-e39a-0243e33b5021"
      },
      "execution_count": null,
      "outputs": [
        {
          "output_type": "stream",
          "name": "stdout",
          "text": [
            "ulk23cs1001\n",
            "Daily Rainfall Array: [10 15 20 25 30 35 40 45]\n",
            "4th day's rainfall: 25\n",
            "Rainfall for the first 3 days: [10 15 20]\n",
            "Rainfall for the last 2 days: [40 45]\n"
          ]
        }
      ]
    },
    {
      "cell_type": "markdown",
      "source": [
        "6. Create a 1D NumPy array with 12 random integers between 0 and 100 representing\n",
        "monthly average temperatures. Sort the array in ascending order and print all unique\n",
        "values."
      ],
      "metadata": {
        "id": "EUQkWYivszfT"
      }
    },
    {
      "cell_type": "code",
      "source": [
        "print('ulk23cs1001')\n",
        "import numpy as np\n",
        "\n",
        "\n",
        "monthly_temps = np.random.randint(low=0, high=101, size=12)\n",
        "print(\"Original Monthly Temperatures:\", monthly_temps)\n",
        "\n",
        "\n",
        "sorted_temps = np.sort(monthly_temps)\n",
        "print(\"Sorted Monthly Temperatures:\", sorted_temps)\n",
        "\n",
        "unique_temps = np.unique(sorted_temps)\n",
        "print(\"Unique Monthly Temperatures:\", unique_temps)\n"
      ],
      "metadata": {
        "colab": {
          "base_uri": "https://localhost:8080/"
        },
        "id": "xNC5xunvqY0t",
        "outputId": "657b927c-b0cc-4840-c7a5-54c2a152a96c"
      },
      "execution_count": null,
      "outputs": [
        {
          "output_type": "stream",
          "name": "stdout",
          "text": [
            "ulk23cs1001\n",
            "Original Monthly Temperatures: [29 28 24  6 47 24 58 60  0 38 75  6]\n",
            "Sorted Monthly Temperatures: [ 0  6  6 24 24 28 29 38 47 58 60 75]\n",
            "Unique Monthly Temperatures: [ 0  6 24 28 29 38 47 58 60 75]\n"
          ]
        }
      ]
    },
    {
      "cell_type": "markdown",
      "source": [
        "7. Create a NumPy array [5, 15, 25, 35, 45, 55, 65, 75] representing daily wind speed\n",
        "(km/h). Find the index of wind speed 35 and the index of the maximum and\n",
        "minimum speeds."
      ],
      "metadata": {
        "id": "NEDzd-7EvlvP"
      }
    },
    {
      "cell_type": "code",
      "source": [
        "print('ulk23cs1001')\n",
        "import numpy as np\n",
        "\n",
        "wind_speed = np.array([5, 15, 25, 35, 45, 55, 65, 75])\n",
        "print(\"Daily Wind Speed Array:\", wind_speed)\n",
        "\n",
        "index_of_35 = np.where(wind_speed == 35)[0][0]\n",
        "print(\"Index of wind speed 35:\", index_of_35)\n",
        "\n",
        "index_of_max_speed = np.argmax(wind_speed)\n",
        "print(\"Index of maximum speed:\", index_of_max_speed)\n",
        "\n",
        "index_of_min_speed = np.argmin(wind_speed)\n",
        "print(\"Index of minimum speed:\", index_of_min_speed)\n"
      ],
      "metadata": {
        "colab": {
          "base_uri": "https://localhost:8080/"
        },
        "id": "tiaEgmxnvwbB",
        "outputId": "70b96f54-78cd-4f2c-aed7-7c0546d97e88"
      },
      "execution_count": null,
      "outputs": [
        {
          "output_type": "stream",
          "name": "stdout",
          "text": [
            "ulk23cs1001\n",
            "Daily Wind Speed Array: [ 5 15 25 35 45 55 65 75]\n",
            "Index of wind speed 35: 3\n",
            "Index of maximum speed: 7\n",
            "Index of minimum speed: 0\n"
          ]
        }
      ]
    },
    {
      "cell_type": "markdown",
      "source": [
        "8. Generate a NumPy array of 20 random integers between 0 and 200 representing\n",
        "rainfall in mm. Extract all days with rainfall > 100 mm and all days with rainfall\n",
        "divisible by 10."
      ],
      "metadata": {
        "id": "9rlIVuR3wOcJ"
      }
    },
    {
      "cell_type": "code",
      "source": [
        "print('ulk23cs1001')\n",
        "import numpy as np\n",
        "\n",
        "rainfall_data = np.random.randint(low=0, high=201, size=20)\n",
        "print(\"Original Rainfall Data (mm):\", rainfall_data)\n",
        "\n",
        "heavy_rainfall_days = rainfall_data[rainfall_data > 100]\n",
        "print(\"Days with rainfall > 100 mm:\", heavy_rainfall_days)\n",
        "\n",
        "divisible_by_10_days = rainfall_data[rainfall_data % 10 == 0]\n",
        "print(\"Days with rainfall divisible by 10:\", divisible_by_10_days)"
      ],
      "metadata": {
        "colab": {
          "base_uri": "https://localhost:8080/"
        },
        "id": "qMmhHWixwSAG",
        "outputId": "bfd1e27a-2027-4e80-a1fe-630e52edccc1"
      },
      "execution_count": null,
      "outputs": [
        {
          "output_type": "stream",
          "name": "stdout",
          "text": [
            "ulk23cs1001\n",
            "Original Rainfall Data (mm): [ 53  31 110  93 159  75 101 120  92  90 197  29  31 168 147 170  26 155\n",
            "  76   8]\n",
            "Days with rainfall > 100 mm: [110 159 101 120 197 168 147 170 155]\n",
            "Days with rainfall divisible by 10: [110 120  90 170]\n"
          ]
        }
      ]
    },
    {
      "cell_type": "markdown",
      "source": [
        "9. Create two 1D NumPy arrays:\n",
        "T_max = [35, 36, 37, 38, 34] (maximum daily temperatures)\n",
        "T_min = [25, 24, 26, 27, 23] (minimum daily temperatures).\n",
        "Calculate the daily temperature range (T_max - T_min) and print T_max + T_min and\n",
        "T_max / T_min."
      ],
      "metadata": {
        "id": "NCcG_Pp0wZoU"
      }
    },
    {
      "cell_type": "code",
      "source": [
        "print('ulk23cs1001')\n",
        "import numpy as np\n",
        "\n",
        "T_max = np.array([35, 36, 37, 38, 34])\n",
        "T_min = np.array([25, 24, 26, 27, 23])\n",
        "\n",
        "print(\"Maximum Daily Temperatures (T_max):\", T_max)\n",
        "print(\"Minimum Daily Temperatures (T_min):\", T_min)\n",
        "\n",
        "temperature_range = T_max - T_min\n",
        "print(\"\\nDaily Temperature Range (T_max - T_min):\", temperature_range)\n",
        "\n",
        "sum_temps = T_max + T_min\n",
        "print(\"T_max + T_min:\", sum_temps)\n",
        "\n",
        "division_temps = T_max / T_min\n",
        "print(\"T_max / T_min:\", division_temps)\n"
      ],
      "metadata": {
        "colab": {
          "base_uri": "https://localhost:8080/"
        },
        "id": "3u9aryGDwuz-",
        "outputId": "d184396e-240c-42d2-d530-94c25c179130"
      },
      "execution_count": 1,
      "outputs": [
        {
          "output_type": "stream",
          "name": "stdout",
          "text": [
            "ulk23cs1001\n",
            "Maximum Daily Temperatures (T_max): [35 36 37 38 34]\n",
            "Minimum Daily Temperatures (T_min): [25 24 26 27 23]\n",
            "\n",
            "Daily Temperature Range (T_max - T_min): [10 12 11 11 11]\n",
            "T_max + T_min: [60 60 63 65 57]\n",
            "T_max / T_min: [1.4        1.5        1.42307692 1.40740741 1.47826087]\n"
          ]
        }
      ]
    },
    {
      "cell_type": "markdown",
      "source": [
        "10. Create an array of 30 random integers between 10 and 40 representing hourly\n",
        "temperature readings. Print the total, the highest and lowest temperatures, and the average of the first 10 readings."
      ],
      "metadata": {
        "id": "S-an08L7nDt0"
      }
    },
    {
      "cell_type": "code",
      "source": [
        "print('ulk23cs1001')\n",
        "import numpy as np\n",
        "\n",
        "hourly_temperatures = np.random.randint(low=10, high=41, size=30)\n",
        "print(\"Hourly Temperature Readings:\", hourly_temperatures)\n",
        "\n",
        "total_temperature = np.sum(hourly_temperatures)\n",
        "print(\"Total Temperature:\", total_temperature)\n",
        "\n",
        "highest_temperature = np.max(hourly_temperatures)\n",
        "print(\"Highest Temperature:\", highest_temperature)\n",
        "\n",
        "lowest_temperature = np.min(hourly_temperatures)\n",
        "print(\"Lowest Temperature:\", lowest_temperature)\n",
        "\n",
        "\n",
        "first_10_readings = hourly_temperatures[:10]\n",
        "average_first_10 = np.mean(first_10_readings)\n",
        "print(\"Average of the first 10 readings:\", average_first_10)"
      ],
      "metadata": {
        "id": "hvoZLCuQxRSv",
        "colab": {
          "base_uri": "https://localhost:8080/"
        },
        "outputId": "5ae039f2-79f1-44e8-eb2e-161b085c775b"
      },
      "execution_count": 2,
      "outputs": [
        {
          "output_type": "stream",
          "name": "stdout",
          "text": [
            "ulk23cs1001\n",
            "Hourly Temperature Readings: [28 15 27 33 29 29 16 32 14 20 26 12 19 10 11 16 39 28 30 31 30 32 16 19\n",
            " 40 19 26 13 13 32]\n",
            "Total Temperature: 705\n",
            "Highest Temperature: 40\n",
            "Lowest Temperature: 10\n",
            "Average of the first 10 readings: 24.3\n"
          ]
        }
      ]
    },
    {
      "cell_type": "markdown",
      "source": [
        "11. Create a 1D array of numbers from 1 to 12 representing months. Reshape it into an\n",
        "array with 4 rows and 3 columns to represent seasonal data, then flatten it back to\n",
        "1D."
      ],
      "metadata": {
        "id": "8IEo6KB_oz4_"
      }
    },
    {
      "cell_type": "code",
      "source": [
        "print('ulk23cs1001')\n",
        "import numpy as np\n",
        "\n",
        "months_1d = np.arange(1, 13)\n",
        "print(\"Original 1D Array (Months):\", months_1d)\n",
        "\n",
        "seasonal_data = months_1d.reshape(4, 3)\n",
        "print(\"\\nReshaped 2D Array (Seasonal Data):\")\n",
        "print(seasonal_data)\n",
        "\n",
        "\n",
        "flattened_array_copy = seasonal_data.flatten()\n",
        "print(\"\\nFlattened Array (Copy, using flatten()):\", flattened_array_copy)\n",
        "\n",
        "flattened_array_view = seasonal_data.ravel()\n",
        "print(\"Flattened Array (View, using ravel()):\", flattened_array_view)\n"
      ],
      "metadata": {
        "colab": {
          "base_uri": "https://localhost:8080/"
        },
        "id": "wxXGMwBNopNX",
        "outputId": "b6c51ce8-77b9-482b-dcf5-bbd8bce08ce6"
      },
      "execution_count": 3,
      "outputs": [
        {
          "output_type": "stream",
          "name": "stdout",
          "text": [
            "ulk23cs1001\n",
            "Original 1D Array (Months): [ 1  2  3  4  5  6  7  8  9 10 11 12]\n",
            "\n",
            "Reshaped 2D Array (Seasonal Data):\n",
            "[[ 1  2  3]\n",
            " [ 4  5  6]\n",
            " [ 7  8  9]\n",
            " [10 11 12]]\n",
            "\n",
            "Flattened Array (Copy, using flatten()): [ 1  2  3  4  5  6  7  8  9 10 11 12]\n",
            "Flattened Array (View, using ravel()): [ 1  2  3  4  5  6  7  8  9 10 11 12]\n"
          ]
        }
      ]
    },
    {
      "cell_type": "markdown",
      "source": [
        "12. Create two arrays of 10 random integers each between 10 and 50 representing\n",
        "rainfall (mm) in two different cities. Perform element-wise addition, subtraction, and\n",
        "multiplication to compare rainfall."
      ],
      "metadata": {
        "id": "ipK0gd58o9Qc"
      }
    },
    {
      "cell_type": "code",
      "source": [
        "print('ulk23cs1001')\n",
        "import numpy as np\n",
        "\n",
        "rainfall_city_a = np.random.randint(low=10, high=51, size=10)\n",
        "rainfall_city_b = np.random.randint(low=10, high=51, size=10)\n",
        "\n",
        "print(\"Rainfall in City A (mm):\", rainfall_city_a)\n",
        "print(\"Rainfall in City B (mm):\", rainfall_city_b)\n",
        "\n",
        "\n",
        "total_rainfall = rainfall_city_a + rainfall_city_b\n",
        "print(\"\\nElement-wise Addition (Total rainfall):\", total_rainfall)\n",
        "\n",
        "\n",
        "difference_rainfall = rainfall_city_a - rainfall_city_b\n",
        "print(\"Element-wise Subtraction (Difference in rainfall):\", difference_rainfall)\n",
        "\n",
        "product_rainfall = rainfall_city_a * rainfall_city_b\n",
        "print(\"Element-wise Multiplication (Product of rainfall):\", product_rainfall)"
      ],
      "metadata": {
        "colab": {
          "base_uri": "https://localhost:8080/"
        },
        "id": "RF8a-q5So6r4",
        "outputId": "545b5b90-30a3-46d3-8357-36c64d0c3d7d"
      },
      "execution_count": 4,
      "outputs": [
        {
          "output_type": "stream",
          "name": "stdout",
          "text": [
            "ulk23cs1001\n",
            "Rainfall in City A (mm): [13 15 34 33 48 27 21 28 40 30]\n",
            "Rainfall in City B (mm): [22 20 24 41 50 47 31 29 32 12]\n",
            "\n",
            "Element-wise Addition (Total rainfall): [35 35 58 74 98 74 52 57 72 42]\n",
            "Element-wise Subtraction (Difference in rainfall): [ -9  -5  10  -8  -2 -20 -10  -1   8  18]\n",
            "Element-wise Multiplication (Product of rainfall): [ 286  300  816 1353 2400 1269  651  812 1280  360]\n"
          ]
        }
      ]
    },
    {
      "cell_type": "markdown",
      "source": [
        "13. Create an array of 15 random integers between 50 and 100 representing humidity\n",
        "levels. Sort the values, extract all humidity levels above 80, and find the unique\n",
        "humidity levels and their sum."
      ],
      "metadata": {
        "id": "OinzkvvWpLZm"
      }
    },
    {
      "cell_type": "code",
      "source": [
        "print('ulk23cs1001')\n",
        "import numpy as np\n",
        "\n",
        "humidity_levels = np.random.randint(low=50, high=101, size=15)\n",
        "print(\"Original Humidity Levels:\", humidity_levels)\n",
        "\n",
        "sorted_humidity = np.sort(humidity_levels)\n",
        "print(\"Sorted Humidity Levels:\", sorted_humidity)\n",
        "\n",
        "high_humidity = sorted_humidity[sorted_humidity > 80]\n",
        "print(\"Humidity Levels above 80:\", high_humidity)\n",
        "\n",
        "unique_humidity = np.unique(sorted_humidity)\n",
        "print(\"Unique Humidity Levels:\", unique_humidity)\n",
        "\n",
        "\n",
        "sum_unique_humidity = np.sum(unique_humidity)\n",
        "print(\"Sum of Unique Humidity Levels:\", sum_unique_humidity)"
      ],
      "metadata": {
        "colab": {
          "base_uri": "https://localhost:8080/"
        },
        "id": "SCkr14zLpH6j",
        "outputId": "d0d446a5-b42a-4e72-8fdc-0528611dbef8"
      },
      "execution_count": 5,
      "outputs": [
        {
          "output_type": "stream",
          "name": "stdout",
          "text": [
            "ulk23cs1001\n",
            "Original Humidity Levels: [96 65 70 90 66 70 64 94 89 83 74 53 59 60 74]\n",
            "Sorted Humidity Levels: [53 59 60 64 65 66 70 70 74 74 83 89 90 94 96]\n",
            "Humidity Levels above 80: [83 89 90 94 96]\n",
            "Unique Humidity Levels: [53 59 60 64 65 66 70 74 83 89 90 94 96]\n",
            "Sum of Unique Humidity Levels: 963\n"
          ]
        }
      ]
    },
    {
      "cell_type": "markdown",
      "source": [
        "14. Create a NumPy array of 7 floating-point numbers representing weekly average\n",
        "temperatures and convert its data type to integers. Print the data type before and\n",
        "after conversion."
      ],
      "metadata": {
        "id": "gxfETEwIrdYt"
      }
    },
    {
      "cell_type": "code",
      "source": [
        "print('ulk223cs1001')\n",
        "import numpy as np\n",
        "\n",
        "\n",
        "weekly_temps_float = np.array([25.5, 26.8, 24.1, 27.3, 28.0, 26.2, 25.9])\n",
        "print(\"Original Array (Floats):\", weekly_temps_float)\n",
        "\n",
        "\n",
        "print(\"Data type before conversion:\", weekly_temps_float.dtype)\n",
        "\n",
        "\n",
        "weekly_temps_int = weekly_temps_float.astype(int)\n",
        "print(\"\\nConverted Array (Integers):\", weekly_temps_int)\n",
        "\n",
        "\n",
        "print(\"Data type after conversion:\", weekly_temps_int.dtype)"
      ],
      "metadata": {
        "colab": {
          "base_uri": "https://localhost:8080/"
        },
        "id": "z5aeApH1rQpE",
        "outputId": "7475c17a-cd66-41d7-8385-68981906dffa"
      },
      "execution_count": 6,
      "outputs": [
        {
          "output_type": "stream",
          "name": "stdout",
          "text": [
            "ulk223cs1001\n",
            "Original Array (Floats): [25.5 26.8 24.1 27.3 28.  26.2 25.9]\n",
            "Data type before conversion: float64\n",
            "\n",
            "Converted Array (Integers): [25 26 24 27 28 26 25]\n",
            "Data type after conversion: int64\n"
          ]
        }
      ]
    },
    {
      "cell_type": "markdown",
      "source": [
        "15. Use NumPy’s arange and linspace to create arrays:\n",
        "\n",
        "    a) A range of days from 1 to 30 with a step of 3.\n",
        "\n",
        "    b) An array of 10 equally spaced temperature thresholds between 20°C and 40°"
      ],
      "metadata": {
        "id": "-s2P3G9K3C72"
      }
    },
    {
      "cell_type": "code",
      "source": [
        "print('ulk23cs1001')\n",
        "import numpy as np\n",
        "\n",
        "days_array = np.arange(1, 31, 3)\n",
        "print(\"Days Array (arange):\", days_array)\n",
        "\n",
        "temp_thresholds = np.linspace(20, 40, 10)\n",
        "print(\"Temperature Thresholds (linspace):\", temp_thresholds)\n"
      ],
      "metadata": {
        "colab": {
          "base_uri": "https://localhost:8080/"
        },
        "id": "96DfMXKF3keF",
        "outputId": "d2a803ee-46f3-435f-8fd7-0c0ea5a342fd"
      },
      "execution_count": 7,
      "outputs": [
        {
          "output_type": "stream",
          "name": "stdout",
          "text": [
            "ulk23cs1001\n",
            "Days Array (arange): [ 1  4  7 10 13 16 19 22 25 28]\n",
            "Temperature Thresholds (linspace): [20.         22.22222222 24.44444444 26.66666667 28.88888889 31.11111111\n",
            " 33.33333333 35.55555556 37.77777778 40.        ]\n"
          ]
        }
      ]
    },
    {
      "cell_type": "markdown",
      "source": [
        "16. Iterate over a NumPy array [10, 20, 30, 40, 50] representing daily wind speeds and\n",
        "print each speed along with a classification: \"Low\" (<20), \"Medium\" (20–40), or\n",
        "\"High\" (>40)."
      ],
      "metadata": {
        "id": "bVqBeNTk4IZC"
      }
    },
    {
      "cell_type": "code",
      "source": [
        "print('ulk23cs1001')\n",
        "import numpy as np\n",
        "\n",
        "wind_speeds = np.array([10, 20, 30, 40, 50])\n",
        "\n",
        "print(\"Daily Wind Speed Classification:\")\n",
        "for speed in wind_speeds:\n",
        "    if speed < 20:\n",
        "        classification = \"Low\"\n",
        "    elif 20 <= speed <= 40:\n",
        "        classification = \"Medium\"\n",
        "    else:\n",
        "        classification = \"High\"\n",
        "    print(f\"Speed: {speed} km/h - Classification: {classification}\")\n"
      ],
      "metadata": {
        "colab": {
          "base_uri": "https://localhost:8080/"
        },
        "id": "K157F43P3uPH",
        "outputId": "908c5b8b-522c-4892-de82-79f1b8f50a44"
      },
      "execution_count": 8,
      "outputs": [
        {
          "output_type": "stream",
          "name": "stdout",
          "text": [
            "ulk23cs1001\n",
            "Daily Wind Speed Classification:\n",
            "Speed: 10 km/h - Classification: Low\n",
            "Speed: 20 km/h - Classification: Medium\n",
            "Speed: 30 km/h - Classification: Medium\n",
            "Speed: 40 km/h - Classification: Medium\n",
            "Speed: 50 km/h - Classification: High\n"
          ]
        }
      ]
    },
    {
      "cell_type": "markdown",
      "source": [
        "17. Split a 1D NumPy array [5, 10, 15, 20, 25, 30] representing weekly rainfall data into\n",
        "two equal parts."
      ],
      "metadata": {
        "id": "IszlH1wb4XKj"
      }
    },
    {
      "cell_type": "code",
      "source": [
        "print('ulk23cs1001')\n",
        "import numpy as np\n",
        "\n",
        "weekly_rainfall = np.array([5, 10, 15, 20, 25, 30])\n",
        "print(\"Original Weekly Rainfall Data:\", weekly_rainfall)\n",
        "\n",
        "split_rainfall = np.split(weekly_rainfall, 2)\n",
        "print(\"\\nSplit Rainfall Data:\")\n",
        "print(\"Part 1:\", split_rainfall[0])\n",
        "print(\"Part 2:\", split_rainfall[1])\n"
      ],
      "metadata": {
        "colab": {
          "base_uri": "https://localhost:8080/"
        },
        "id": "P0HNkxE94THu",
        "outputId": "c5ef182b-6b2b-4d02-a936-deb59ea396ec"
      },
      "execution_count": 9,
      "outputs": [
        {
          "output_type": "stream",
          "name": "stdout",
          "text": [
            "ulk23cs1001\n",
            "Original Weekly Rainfall Data: [ 5 10 15 20 25 30]\n",
            "\n",
            "Split Rainfall Data:\n",
            "Part 1: [ 5 10 15]\n",
            "Part 2: [20 25 30]\n"
          ]
        }
      ]
    },
    {
      "cell_type": "markdown",
      "source": [
        "18. Create a Pandas DataFrame from a NumPy array of shape (5, 3) to represent 5 days\n",
        "with columns ['Temperature', 'Rainfall', 'Humidity']. Display the DataFrame."
      ],
      "metadata": {
        "id": "WSEtLVSQ4wfO"
      }
    },
    {
      "cell_type": "code",
      "source": [
        "import numpy as np\n",
        "import pandas as pd\n",
        "\n",
        "data = np.random.randint(low=10, high=40, size=(5, 3))\n",
        "print(\"NumPy Array (5x3):\")\n",
        "print(data)\n",
        "columns = ['Temperature', 'Rainfall', 'Humidity']\n",
        "weather_df = pd.DataFrame(data, columns=columns)\n",
        "print(\"\\nPandas DataFrame:\")\n",
        "print(weather_df)\n"
      ],
      "metadata": {
        "colab": {
          "base_uri": "https://localhost:8080/"
        },
        "id": "_RVu1imf4oyH",
        "outputId": "4a932b33-27f4-4d3a-f3e6-0895593cf0b9"
      },
      "execution_count": 10,
      "outputs": [
        {
          "output_type": "stream",
          "name": "stdout",
          "text": [
            "NumPy Array (5x3):\n",
            "[[11 27 38]\n",
            " [34 14 17]\n",
            " [31 22 39]\n",
            " [24 15 16]\n",
            " [22 31 31]]\n",
            "\n",
            "Pandas DataFrame:\n",
            "   Temperature  Rainfall  Humidity\n",
            "0           11        27        38\n",
            "1           34        14        17\n",
            "2           31        22        39\n",
            "3           24        15        16\n",
            "4           22        31        31\n"
          ]
        }
      ]
    },
    {
      "cell_type": "markdown",
      "source": [
        "19. Convert the following into Pandas DataFrames:\n",
        "\n",
        " a) A Python list of cities.\n",
        "\n",
        " b) A tuple of average temperatures.\n",
        "\n",
        " c) A dictionary with city names as keys and rainfall (mm) as values."
      ],
      "metadata": {
        "id": "MXnWTsMJ5HVs"
      }
    },
    {
      "cell_type": "code",
      "source": [
        "print('ulk23cs1001')\n",
        "import pandas as pd\n",
        "\n",
        "cities_list = ['Chennai', 'Mumbai', 'Delhi', 'Bengaluru', 'Kolkata'] #\n",
        "df_cities = pd.DataFrame(cities_list, columns=['City']) #\n",
        "print(\"DataFrame from List of Cities:\")\n",
        "print(df_cities)\n",
        "\n",
        "\n",
        "average_temps_tuple = (30.5, 32.1, 29.8, 31.0, 33.2) #\n",
        "df_temps = pd.DataFrame(list(average_temps_tuple), columns=['Average Temperature (°C)']) #\n",
        "print(\"\\nDataFrame from Tuple of Average Temperatures:\")\n",
        "print(df_temps)\n",
        "\n",
        "\n",
        "city_rainfall_dict = { #\n",
        "    'Chennai': 1200,\n",
        "    'Mumbai': 2500,\n",
        "    'Delhi': 800,\n",
        "    'Bengaluru': 1100,\n",
        "    'Kolkata': 1800\n",
        "}\n",
        "df_rainfall = pd.DataFrame(list(city_rainfall_dict.items()), columns=['City', 'Rainfall (mm)']) #\n",
        "\n",
        "\n",
        "print(\"\\nDataFrame from Dictionary of City Rainfall:\")\n",
        "print(df_rainfall)"
      ],
      "metadata": {
        "colab": {
          "base_uri": "https://localhost:8080/"
        },
        "id": "Q531wIjd49Co",
        "outputId": "feaf92d2-126d-48de-c969-7cfbeff15985"
      },
      "execution_count": 11,
      "outputs": [
        {
          "output_type": "stream",
          "name": "stdout",
          "text": [
            "ulk23cs1001\n",
            "DataFrame from List of Cities:\n",
            "        City\n",
            "0    Chennai\n",
            "1     Mumbai\n",
            "2      Delhi\n",
            "3  Bengaluru\n",
            "4    Kolkata\n",
            "\n",
            "DataFrame from Tuple of Average Temperatures:\n",
            "   Average Temperature (°C)\n",
            "0                      30.5\n",
            "1                      32.1\n",
            "2                      29.8\n",
            "3                      31.0\n",
            "4                      33.2\n",
            "\n",
            "DataFrame from Dictionary of City Rainfall:\n",
            "        City  Rainfall (mm)\n",
            "0    Chennai           1200\n",
            "1     Mumbai           2500\n",
            "2      Delhi            800\n",
            "3  Bengaluru           1100\n",
            "4    Kolkata           1800\n"
          ]
        }
      ]
    },
    {
      "cell_type": "markdown",
      "source": [
        "20. Read a CSV file named weather_data.csv into a Pandas DataFrame. Display the first 5\n",
        "rows, column names, and data types to inspect the dataset."
      ],
      "metadata": {
        "id": "NMw4rsmy6ek7"
      }
    },
    {
      "cell_type": "code",
      "source": [
        "print('ulk23cs1001')\n",
        "import pandas as pd\n",
        "\n",
        "df = pd.read_csv(\"weatjher_data.csv.csv\")\n",
        "\n",
        "print(\"First 5 rows:\")\n",
        "print(df.head())\n",
        "\n",
        "print(\"\\nColumn Names:\")\n",
        "print(df.columns)\n",
        "\n",
        "print(\"\\nData Types:\")\n",
        "print(df.dtypes)\n"
      ],
      "metadata": {
        "colab": {
          "base_uri": "https://localhost:8080/"
        },
        "id": "acGMu6Rd5XIb",
        "outputId": "8f6d1e0a-f644-4bdf-b87c-4451419dfbdd"
      },
      "execution_count": 3,
      "outputs": [
        {
          "output_type": "stream",
          "name": "stdout",
          "text": [
            "ulk23cs1001\n",
            "First 5 rows:\n",
            "   Outdoor Drybulb Temperature [C]  Outdoor Relative Humidity [%]  \\\n",
            "0                            17.81                          68.12   \n",
            "1                            16.14                          74.75   \n",
            "2                            16.10                          75.88   \n",
            "3                            16.10                          78.25   \n",
            "4                            16.16                          77.75   \n",
            "\n",
            "   Diffuse Solar Radiation [W/m2]  Direct Solar Radiation [W/m2]  \\\n",
            "0                             0.0                            0.0   \n",
            "1                             0.0                            0.0   \n",
            "2                             0.0                            0.0   \n",
            "3                             0.0                            0.0   \n",
            "4                             0.0                            0.0   \n",
            "\n",
            "   6h Prediction Outdoor Drybulb Temperature [C]  \\\n",
            "0                                          16.19   \n",
            "1                                          17.20   \n",
            "2                                          18.76   \n",
            "3                                          21.43   \n",
            "4                                          23.37   \n",
            "\n",
            "   12h Prediction Outdoor Drybulb Temperature [C]  \\\n",
            "0                                           25.29   \n",
            "1                                           25.96   \n",
            "2                                           25.90   \n",
            "3                                           26.08   \n",
            "4                                           25.84   \n",
            "\n",
            "   24h Prediction Outdoor Drybulb Temperature [C]  \\\n",
            "0                                           18.31   \n",
            "1                                           17.25   \n",
            "2                                           15.07   \n",
            "3                                           15.21   \n",
            "4                                           12.91   \n",
            "\n",
            "   6h Prediction Outdoor Relative Humidity [%]  \\\n",
            "0                                        76.47   \n",
            "1                                        72.65   \n",
            "2                                        67.54   \n",
            "3                                        56.74   \n",
            "4                                        50.20   \n",
            "\n",
            "   12h Prediction Outdoor Relative Humidity [%]  \\\n",
            "0                                         44.10   \n",
            "1                                         41.52   \n",
            "2                                         41.96   \n",
            "3                                         42.34   \n",
            "4                                         42.92   \n",
            "\n",
            "   24h Prediction Outdoor Relative Humidity [%]  \\\n",
            "0                                         67.32   \n",
            "1                                         72.46   \n",
            "2                                         82.54   \n",
            "3                                         80.86   \n",
            "4                                         93.52   \n",
            "\n",
            "   6h Prediction Diffuse Solar Radiation [W/m2]  \\\n",
            "0                                          0.00   \n",
            "1                                         41.67   \n",
            "2                                        101.65   \n",
            "3                                        151.99   \n",
            "4                                        187.61   \n",
            "\n",
            "   12h Prediction Diffuse Solar Radiation [W/m2]  \\\n",
            "0                                         171.45   \n",
            "1                                         132.00   \n",
            "2                                         118.76   \n",
            "3                                          69.99   \n",
            "4                                          34.75   \n",
            "\n",
            "   24h Prediction Diffuse Solar Radiation [W/m2]  \\\n",
            "0                                            0.0   \n",
            "1                                            0.0   \n",
            "2                                            0.0   \n",
            "3                                            0.0   \n",
            "4                                            0.0   \n",
            "\n",
            "   6h Prediction Direct Solar Radiation [W/m2]  \\\n",
            "0                                         0.00   \n",
            "1                                        65.46   \n",
            "2                                       329.89   \n",
            "3                                       436.51   \n",
            "4                                       486.97   \n",
            "\n",
            "   12h Prediction Direct Solar Radiation [W/m2]  \\\n",
            "0                                        577.41   \n",
            "1                                        708.69   \n",
            "2                                        595.70   \n",
            "3                                        582.30   \n",
            "4                                        329.68   \n",
            "\n",
            "   24h Prediction Direct Solar Radiation [W/m2]  \n",
            "0                                           0.0  \n",
            "1                                           0.0  \n",
            "2                                           0.0  \n",
            "3                                           0.0  \n",
            "4                                           0.0  \n",
            "\n",
            "Column Names:\n",
            "Index(['Outdoor Drybulb Temperature [C]', 'Outdoor Relative Humidity [%]',\n",
            "       'Diffuse Solar Radiation [W/m2]', 'Direct Solar Radiation [W/m2]',\n",
            "       '6h Prediction Outdoor Drybulb Temperature [C]',\n",
            "       '12h Prediction Outdoor Drybulb Temperature [C]',\n",
            "       '24h Prediction Outdoor Drybulb Temperature [C]',\n",
            "       '6h Prediction Outdoor Relative Humidity [%]',\n",
            "       '12h Prediction Outdoor Relative Humidity [%]',\n",
            "       '24h Prediction Outdoor Relative Humidity [%]',\n",
            "       '6h Prediction Diffuse Solar Radiation [W/m2]',\n",
            "       '12h Prediction Diffuse Solar Radiation [W/m2]',\n",
            "       '24h Prediction Diffuse Solar Radiation [W/m2]',\n",
            "       '6h Prediction Direct Solar Radiation [W/m2]',\n",
            "       '12h Prediction Direct Solar Radiation [W/m2]',\n",
            "       '24h Prediction Direct Solar Radiation [W/m2]'],\n",
            "      dtype='object')\n",
            "\n",
            "Data Types:\n",
            "Outdoor Drybulb Temperature [C]                   float64\n",
            "Outdoor Relative Humidity [%]                     float64\n",
            "Diffuse Solar Radiation [W/m2]                    float64\n",
            "Direct Solar Radiation [W/m2]                     float64\n",
            "6h Prediction Outdoor Drybulb Temperature [C]     float64\n",
            "12h Prediction Outdoor Drybulb Temperature [C]    float64\n",
            "24h Prediction Outdoor Drybulb Temperature [C]    float64\n",
            "6h Prediction Outdoor Relative Humidity [%]       float64\n",
            "12h Prediction Outdoor Relative Humidity [%]      float64\n",
            "24h Prediction Outdoor Relative Humidity [%]      float64\n",
            "6h Prediction Diffuse Solar Radiation [W/m2]      float64\n",
            "12h Prediction Diffuse Solar Radiation [W/m2]     float64\n",
            "24h Prediction Diffuse Solar Radiation [W/m2]     float64\n",
            "6h Prediction Direct Solar Radiation [W/m2]       float64\n",
            "12h Prediction Direct Solar Radiation [W/m2]      float64\n",
            "24h Prediction Direct Solar Radiation [W/m2]      float64\n",
            "dtype: object\n"
          ]
        }
      ]
    },
    {
      "cell_type": "code",
      "source": [],
      "metadata": {
        "id": "sf4TcOup6v39"
      },
      "execution_count": null,
      "outputs": []
    }
  ]
}